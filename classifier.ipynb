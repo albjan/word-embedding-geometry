{
 "cells": [
  {
   "cell_type": "markdown",
   "metadata": {},
   "source": [
    "\n",
    "Papers used: \n",
    "\n",
    "https://web.eecs.umich.edu/~jjcorso/t/555pdf/lleintro.pdf for lle and reg\n",
    "\n",
    "https://citeseerx.ist.psu.edu/document?repid=rep1&type=pdf&doi=37e16d10354563e6165ef1269166d3ac75b92b82 for npe\n",
    "\n",
    "https://www.sciencedirect.com/science/article/pii/S0925231223005763#s0025 for bert"
   ]
  },
  {
   "cell_type": "code",
   "execution_count": 3,
   "metadata": {},
   "outputs": [],
   "source": [
    "from sklearn.metrics.pairwise import cosine_similarity\n",
    "import numpy as np"
   ]
  },
  {
   "cell_type": "code",
   "execution_count": 10,
   "metadata": {},
   "outputs": [],
   "source": [
    "path = \"./data/News/\"\n",
    "\n",
    "emb = np.load(path + \"train_embeddings.npy\")\n",
    "label = np.load(path + \"train_labels.npy\")\n",
    "label_emb = np.load(path + \"label_text_embeddings.npy\")"
   ]
  },
  {
   "cell_type": "code",
   "execution_count": 62,
   "metadata": {},
   "outputs": [],
   "source": [
    "def classifier(X_emb, y_emb, similarity_func): \n",
    "    similarity = similarity_func(X_emb, y_emb)\n",
    "    preds = np.argmax(similarity, axis=1)\n",
    "    return preds\n",
    "\n",
    "def accuracy(preds, labels): \n",
    "    return np.mean([preds == labels])\n",
    "\n",
    "def euclidian_metric(x_i, x_j): \n",
    "    return np.sqrt(np.sum(np.square(x_i - x_j), axis=-1))"
   ]
  },
  {
   "cell_type": "code",
   "execution_count": 63,
   "metadata": {},
   "outputs": [
    {
     "name": "stdout",
     "output_type": "stream",
     "text": [
      "(11221, 20)\n",
      "Zero-shot accuracy, base: 0.5421085464753587\n"
     ]
    }
   ],
   "source": [
    "preds = classifier(emb, label_emb, cosine_similarity)\n",
    "\n",
    "print(\"Zero-shot accuracy, base: \" + str(accuracy(preds, label)))"
   ]
  },
  {
   "cell_type": "code",
   "execution_count": 26,
   "metadata": {},
   "outputs": [
    {
     "name": "stdout",
     "output_type": "stream",
     "text": [
      "768\n"
     ]
    }
   ],
   "source": [
    "rank = np.linalg.matrix_rank(emb)\n",
    "print(rank)"
   ]
  },
  {
   "cell_type": "code",
   "execution_count": 82,
   "metadata": {},
   "outputs": [],
   "source": [
    "def p1solver(data, x, neighbors, k):\n",
    "    Z = data[neighbors].T\n",
    "    Z = Z - np.repeat(x.T, len(neighbors), axis=0).reshape(data.shape[1], len(neighbors))\n",
    "    C = Z.T @ Z\n",
    "\n",
    "    #conditioning C\n",
    "    C = C + (np.eye(C.shape[0]) * 1e-5)\n",
    "\n",
    "    w = np.linalg.solve(C, np.ones(len(neighbors)))\n",
    "    w_final = np.zeros(len(data))\n",
    "    w_final[neighbors] = w\n",
    "    return w_final / np.sum(w_final)\n",
    "\n",
    "def knn(k, data, test):\n",
    "    return np.argsort(np.sum(data**2, axis=1) - 2 * test.dot(data.T), axis=0)[1:k+1]\n",
    "\n",
    "def NPEsolver(X, W, k): \n",
    "    I = np.identity(X.shape[1])\n",
    "    M = (I-W).T @ (I-W) #1000 x 1000\n",
    "    T1 = np.linalg.inv(X @ X.T) # \n",
    "    T2 = X @ M @ X.T\n",
    "    evalues, evectors = np.linalg.eigh(T1 @ T2)\n",
    "    Y = evectors[: , 1:k+1]\n",
    "    return Y\n",
    "\n",
    "def NPE(X, k, n_neighbors): \n",
    "    W = []\n",
    "    for i in range((len(X))): \n",
    "        neighbors = knn(n_neighbors, X, X[i])\n",
    "        W.append(p1solver(X, X[i], neighbors, k))\n",
    "    W = np.asarray(W)\n",
    "    return NPEsolver(X.T, W, k)"
   ]
  },
  {
   "cell_type": "code",
   "execution_count": 83,
   "metadata": {},
   "outputs": [],
   "source": [
    "w = NPE(emb, 768, 100)\n",
    "npe_emb = (w.T @ (emb.T)).T\n",
    "npe_label = (w.T @ (label_emb.T)).T"
   ]
  },
  {
   "cell_type": "code",
   "execution_count": null,
   "metadata": {},
   "outputs": [],
   "source": []
  }
 ],
 "metadata": {
  "kernelspec": {
   "display_name": "torchenv",
   "language": "python",
   "name": "python3"
  },
  "language_info": {
   "codemirror_mode": {
    "name": "ipython",
    "version": 3
   },
   "file_extension": ".py",
   "mimetype": "text/x-python",
   "name": "python",
   "nbconvert_exporter": "python",
   "pygments_lexer": "ipython3",
   "version": "3.11.9"
  }
 },
 "nbformat": 4,
 "nbformat_minor": 2
}
