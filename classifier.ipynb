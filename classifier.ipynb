{
 "cells": [
  {
   "cell_type": "code",
   "execution_count": 3,
   "metadata": {},
   "outputs": [],
   "source": [
    "from sklearn.metrics.pairwise import cosine_similarity\n",
    "import numpy as np"
   ]
  },
  {
   "cell_type": "code",
   "execution_count": 4,
   "metadata": {},
   "outputs": [],
   "source": [
    "path = \"./data/News/\"\n",
    "\n",
    "train_emb = np.load(path + \"train_embeddings.npy\")\n",
    "train_label = np.load(path + \"train_labels.npy\")\n",
    "test_emb = np.load(path + \"test_embeddings.npy\")\n",
    "test_label = np.load(path + \"test_labels.npy\")"
   ]
  },
  {
   "cell_type": "code",
   "execution_count": 7,
   "metadata": {},
   "outputs": [],
   "source": [
    "def classifier(X_emb, y_emb): \n",
    "    similarity = cosine_similarity(X_emb, y_emb)\n",
    "    preds = np.argmax(similarity, axis=0)\n",
    "    return preds\n",
    "\n",
    "def accuracy(preds, labels): \n",
    "    return np.mean([preds == labels])"
   ]
  },
  {
   "cell_type": "code",
   "execution_count": null,
   "metadata": {},
   "outputs": [],
   "source": []
  }
 ],
 "metadata": {
  "kernelspec": {
   "display_name": "torchenv",
   "language": "python",
   "name": "python3"
  },
  "language_info": {
   "codemirror_mode": {
    "name": "ipython",
    "version": 3
   },
   "file_extension": ".py",
   "mimetype": "text/x-python",
   "name": "python",
   "nbconvert_exporter": "python",
   "pygments_lexer": "ipython3",
   "version": "3.11.9"
  }
 },
 "nbformat": 4,
 "nbformat_minor": 2
}
