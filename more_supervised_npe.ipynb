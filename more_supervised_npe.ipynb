{
 "cells": [
  {
   "cell_type": "markdown",
   "metadata": {},
   "source": [
    "This supervised variant of NPE adds a regularization term to the loss function that encourages data points of the same class to be embedded closer to the same point.\n",
    "\n",
    "https://ieeexplore.ieee.org/stamp/stamp.jsp?tp=&arnumber=6889368"
   ]
  },
  {
   "cell_type": "code",
   "execution_count": 41,
   "metadata": {},
   "outputs": [],
   "source": [
    "from sklearn.metrics.pairwise import cosine_similarity\n",
    "from sklearn.decomposition import PCA\n",
    "from sklearn.manifold import Isomap\n",
    "from sklearn.neighbors import KNeighborsClassifier\n",
    "from sklearn.model_selection import train_test_split\n",
    "import numpy as np\n",
    "import matplotlib.pyplot as plt\n"
   ]
  },
  {
   "cell_type": "code",
   "execution_count": 31,
   "metadata": {},
   "outputs": [],
   "source": [
    "DATA_DIR = \"./data/News/\"\n",
    "\n",
    "X_train = np.load(f\"{DATA_DIR}train_embeddings.npy\")\n",
    "y_train = np.load(f\"{DATA_DIR}train_labels.npy\")\n",
    "X_test = np.load(f\"{DATA_DIR}test_embeddings.npy\")\n",
    "y_test = np.load(f\"{DATA_DIR}test_labels.npy\")"
   ]
  },
  {
   "cell_type": "code",
   "execution_count": 38,
   "metadata": {},
   "outputs": [],
   "source": [
    "def p1solver(data, x, neighbors):\n",
    "    Z = data[neighbors].T\n",
    "    Z = Z - np.repeat(x.T, len(neighbors), axis=0).reshape(data.shape[1], len(neighbors))\n",
    "    C = Z.T @ Z\n",
    "\n",
    "    #conditioning C\n",
    "    C = C + (np.eye(C.shape[0]) * 1e-5)\n",
    "    \n",
    "    w = np.linalg.solve(C, np.ones(len(neighbors)))\n",
    "    w_final = np.zeros(len(data))\n",
    "    w_final[neighbors] = w\n",
    "    return w_final / np.sum(w_final)\n",
    "\n",
    "def knn(k, data, test):\n",
    "    return np.argsort(np.sum(data**2, axis=1) - 2 * test.dot(data.T), axis=0)[1:k+1]\n",
    "\n",
    "def SNPE(X, y, n_neighbors, beta, c):\n",
    "    '''\n",
    "    X: n x m data matrix\n",
    "    y: n x 1 labels vector\n",
    "    n_neighbors: # neighbors to use for constructing KNN graph\n",
    "    beta: hyperparam for importance of label information regularization term\n",
    "    c: # of different classes\n",
    "\n",
    "    returns: A: m x c matrix. Take X @ A to be the embedding of data X in c dimensions.\n",
    "    '''\n",
    "\n",
    "    W = []\n",
    "    for i in range((len(X))): \n",
    "        neighbors = knn(n_neighbors, X, X[i])\n",
    "        W.append(p1solver(X, X[i], neighbors))\n",
    "    W = np.asarray(W)\n",
    "    I = np.eye(X.shape[0])\n",
    "    M = (I - W).T @ (I - W)\n",
    "\n",
    "    H = np.zeros((c, len(y)))\n",
    "    H[y, np.arange(len(y))] = 1\n",
    "\n",
    "    return np.linalg.inv(X.T @ M @ X + beta * X.T @ X).T @ X.T @ H.T"
   ]
  },
  {
   "cell_type": "code",
   "execution_count": 39,
   "metadata": {},
   "outputs": [
    {
     "name": "stdout",
     "output_type": "stream",
     "text": [
      "Baseline accuracy: 0.7192256341789052\n"
     ]
    }
   ],
   "source": [
    "classifier = KNeighborsClassifier(n_neighbors=20)\n",
    "classifier.fit(X_train, y_train)\n",
    "y_pred = classifier.predict(X_test)\n",
    "baseline_acc = np.mean(y_test == y_pred)\n",
    "print(f'Baseline accuracy: {baseline_acc}')"
   ]
  },
  {
   "cell_type": "code",
   "execution_count": 44,
   "metadata": {},
   "outputs": [
    {
     "name": "stdout",
     "output_type": "stream",
     "text": [
      "KNN on SNPE embeddings classification accuracy, n_neighbors = 10: best_beta=5, test_acc=0.706675567423231\n",
      "KNN on SNPE embeddings classification accuracy, n_neighbors = 20: best_beta=1, test_acc=0.7070761014686249\n",
      "KNN on SNPE embeddings classification accuracy, n_neighbors = 30: best_beta=10, test_acc=0.7052069425901202\n",
      "KNN on SNPE embeddings classification accuracy, n_neighbors = 50: best_beta=10, test_acc=0.7049399198931909\n",
      "KNN on SNPE embeddings classification accuracy, n_neighbors = 100: best_beta=5, test_acc=0.7050734312416556\n",
      "KNN on SNPE embeddings classification accuracy, n_neighbors = 200: best_beta=5, test_acc=0.7054739652870494\n",
      "KNN on SNPE embeddings classification accuracy, n_neighbors = 300: best_beta=5, test_acc=0.702803738317757\n",
      "KNN on SNPE embeddings classification accuracy, n_neighbors = 500: best_beta=10, test_acc=0.6975967957276369\n"
     ]
    }
   ],
   "source": [
    "betas = [1, 5, 10, 100]\n",
    "n_neighbors_arr = [10, 20, 30, 50, 100, 200, 300, 500]\n",
    "X_train, X_val, y_train, y_val = train_test_split(X_train, y_train, test_size=0.2, random_state=42)\n",
    "best_models = {} # maps KNN n_neighbors --> (best beta, test_accuracy) \n",
    "\n",
    "for n_neighbors in n_neighbors_arr:\n",
    "    best_acc = 0\n",
    "    for beta in betas:\n",
    "        A = SNPE(X_train, y_train, n_neighbors=100, beta=beta, c=20)\n",
    "        X_train_embed = X_train @ A\n",
    "        classifier = KNeighborsClassifier(n_neighbors=n_neighbors, n_jobs=-2)\n",
    "        classifier.fit(X_train_embed, y_train)\n",
    "        X_val_embed = X_val @ A\n",
    "        y_pred = classifier.predict(X_val_embed)\n",
    "        val_acc = np.mean(y_val == y_pred)\n",
    "        if val_acc > best_acc: \n",
    "            best_acc, best_A, best_beta = val_acc, A, beta\n",
    "\n",
    "    X_test_embed = X_test @ best_A\n",
    "    y_pred = classifier.predict(X_test_embed)\n",
    "    test_acc = np.mean(y_test == y_pred)\n",
    "    best_models[n_neighbors] = (best_beta, test_acc)\n",
    "    print(f'KNN on SNPE embeddings classification accuracy, n_neighbors = {n_neighbors}: best_beta={best_beta}, test_acc={test_acc}')\n"
   ]
  },
  {
   "cell_type": "code",
   "execution_count": null,
   "metadata": {},
   "outputs": [],
   "source": []
  }
 ],
 "metadata": {
  "kernelspec": {
   "display_name": "Python 3.10.9 ('iigayalab')",
   "language": "python",
   "name": "python3"
  },
  "language_info": {
   "codemirror_mode": {
    "name": "ipython",
    "version": 3
   },
   "file_extension": ".py",
   "mimetype": "text/x-python",
   "name": "python",
   "nbconvert_exporter": "python",
   "pygments_lexer": "ipython3",
   "version": "3.10.9"
  },
  "orig_nbformat": 4,
  "vscode": {
   "interpreter": {
    "hash": "3ee9a37aeaae1b7131988074b67e6f87ec14d873363062de5db12479748acb0c"
   }
  }
 },
 "nbformat": 4,
 "nbformat_minor": 2
}
