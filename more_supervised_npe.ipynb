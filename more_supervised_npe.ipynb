{
 "cells": [
  {
   "cell_type": "markdown",
   "metadata": {},
   "source": [
    "This supervised variant of NPE adds a regularization term to the loss function that encourages data points of the same class to be embedded closer to the same point.\n",
    "\n",
    "https://ieeexplore.ieee.org/stamp/stamp.jsp?tp=&arnumber=6889368"
   ]
  },
  {
   "cell_type": "code",
   "execution_count": 22,
   "metadata": {},
   "outputs": [],
   "source": [
    "from sklearn.metrics.pairwise import cosine_similarity\n",
    "from sklearn.decomposition import PCA\n",
    "from sklearn.manifold import Isomap\n",
    "from sklearn.neighbors import KNeighborsClassifier\n",
    "import numpy as np\n",
    "import matplotlib.pyplot as plt\n"
   ]
  },
  {
   "cell_type": "code",
   "execution_count": 5,
   "metadata": {},
   "outputs": [],
   "source": [
    "DATA_DIR = \"./data/News/\"\n",
    "\n",
    "X_train = np.load(f\"{DATA_DIR}train_embeddings.npy\")\n",
    "y_train = np.load(f\"{DATA_DIR}train_labels.npy\")\n",
    "X_test = np.load(f\"{DATA_DIR}test_embeddings.npy\")\n",
    "y_test = np.load(f\"{DATA_DIR}test_labels.npy\")"
   ]
  },
  {
   "cell_type": "code",
   "execution_count": 19,
   "metadata": {},
   "outputs": [],
   "source": [
    "def p1solver(data, x, neighbors):\n",
    "    Z = data[neighbors].T\n",
    "    Z = Z - np.repeat(x.T, len(neighbors), axis=0).reshape(data.shape[1], len(neighbors))\n",
    "    C = Z.T @ Z\n",
    "\n",
    "    #conditioning C\n",
    "    C = C + (np.eye(C.shape[0]) * 1e-5)\n",
    "    \n",
    "    w = np.linalg.solve(C, np.ones(len(neighbors)))\n",
    "    w_final = np.zeros(len(data))\n",
    "    w_final[neighbors] = w\n",
    "    return w_final / np.sum(w_final)\n",
    "\n",
    "def knn(k, data, test):\n",
    "    return np.argsort(np.sum(data**2, axis=1) - 2 * test.dot(data.T), axis=0)[1:k+1]\n",
    "\n",
    "def SNPE(X, y, n_neighbors, beta, num_classes):\n",
    "    '''\n",
    "    X: n x m data matrix\n",
    "    y: m x 1 labels vector\n",
    "    n_neighbors: # neighbors to use for constructing KNN graph\n",
    "    beta: hyperparam for importance of label information regularization term\n",
    "    num_classes: # of different labels\n",
    "\n",
    "    returns: A, a m x num_classes matrix. Take X @ A to be the embedding of X in num_classes dimensions.\n",
    "    '''\n",
    "\n",
    "    W = []\n",
    "    for i in range((len(X))): \n",
    "        neighbors = knn(n_neighbors, X, X[i])\n",
    "        W.append(p1solver(X, X[i], neighbors))\n",
    "    W = np.asarray(W)\n",
    "    I = np.eye(X.shape[0])\n",
    "    M = (I - W).T @ (I - W)\n",
    "\n",
    "    H = np.zeros((num_classes, len(y)))\n",
    "    H[y, np.arange(len(y))] = 1\n",
    "\n",
    "    return np.linalg.inv(X.T @ M @ X + beta * X.T @ X).T @ X.T @ H.T\n"
   ]
  },
  {
   "cell_type": "code",
   "execution_count": 29,
   "metadata": {},
   "outputs": [
    {
     "name": "stdout",
     "output_type": "stream",
     "text": [
      "KNN on SNPE embeddings classification accuracy, beta = 1: 0.7455273698264352\n",
      "KNN on SNPE embeddings classification accuracy, beta = 3: 0.7420560747663552\n",
      "KNN on SNPE embeddings classification accuracy, beta = 5: 0.7429906542056075\n",
      "KNN on SNPE embeddings classification accuracy, beta = 7: 0.7447263017356476\n",
      "KNN on SNPE embeddings classification accuracy, beta = 9: 0.7432576769025367\n",
      "KNN on SNPE embeddings classification accuracy, beta = 11: 0.7425901201602136\n"
     ]
    }
   ],
   "source": [
    "betas = [1, 3, 5, 7, 9, 11]\n",
    "accs = []\n",
    "for beta in betas:\n",
    "    A = SNPE(X_train, y_train, n_neighbors=100, beta=beta, num_classes=20)\n",
    "    X_test_embed = X_test @ A\n",
    "    classifier = KNeighborsClassifier(n_neighbors=20)\n",
    "    classifier.fit(X_test_embed, y_test)\n",
    "\n",
    "    y_pred = classifier.predict(X_test_embed)\n",
    "    acc = np.mean(y_test == y_pred)\n",
    "    accs.append(acc)\n",
    "    print(f'KNN on SNPE embeddings classification accuracy, beta = {beta}: {acc}')\n"
   ]
  }
 ],
 "metadata": {
  "kernelspec": {
   "display_name": "Python 3.10.9 ('iigayalab')",
   "language": "python",
   "name": "python3"
  },
  "language_info": {
   "codemirror_mode": {
    "name": "ipython",
    "version": 3
   },
   "file_extension": ".py",
   "mimetype": "text/x-python",
   "name": "python",
   "nbconvert_exporter": "python",
   "pygments_lexer": "ipython3",
   "version": "3.10.9"
  },
  "orig_nbformat": 4,
  "vscode": {
   "interpreter": {
    "hash": "3ee9a37aeaae1b7131988074b67e6f87ec14d873363062de5db12479748acb0c"
   }
  }
 },
 "nbformat": 4,
 "nbformat_minor": 2
}
